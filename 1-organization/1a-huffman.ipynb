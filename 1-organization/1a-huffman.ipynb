{
 "cells": [
  {
   "cell_type": "markdown",
   "metadata": {},
   "source": [
    "# Fixed and Variable Length Codes\n",
    "In the previous lecture, we showed how to exploit redundancy by building a lookup table that mapped one of 4 possible strings to a 2-bit key:\n",
    "\n",
    "| Color | key |\n",
    "|-------|-------|\n",
    "| Red   | 00 |\n",
    "| Green  | 01|\n",
    "| Blue  | 10|\n",
    "| Black  | 11|\n",
    "\n",
    "Such codes are called \"fixed-length\" codes because the length of the key (in bits) is a pre-determined size. Let's overview some of the advantages of these codes with an example.\n",
    "\n",
    "First, we are going to define two data structures that represent this table above:"
   ]
  },
  {
   "cell_type": "code",
   "execution_count": 40,
   "metadata": {},
   "outputs": [
    {
     "name": "stdout",
     "output_type": "stream",
     "text": [
      "The code for black is:  (1, 0)\n",
      "The symbol for 0,1 is:  green\n",
      "The get the symbol back:  black\n"
     ]
    }
   ],
   "source": [
    "encode_table = {'red': (0,0), 'green': (0,1), 'blue': (1,0), 'black': (1,1) }\n",
    "\n",
    "decode_table = {(0,0):'red', (0,1): 'green', (1,0): 'blue', (1,1):'black'}\n",
    "\n",
    "print('The code for black is: ',encode_table['blue'])\n",
    "print('The symbol for 0,1 is: ', decode_table[(0,1)])\n",
    "print('The get the symbol back: ',decode_table[encode_table['black']])"
   ]
  },
  {
   "cell_type": "markdown",
   "metadata": {},
   "source": [
    "Now, we can write an encoder and decoder function that takes a list of such colors and produces a code string and vice versa:"
   ]
  },
  {
   "cell_type": "code",
   "execution_count": 44,
   "metadata": {},
   "outputs": [
    {
     "name": "stdout",
     "output_type": "stream",
     "text": [
      "[0, 0, 0, 0, 0, 1, 1, 1]\n",
      "[0, 0, 1, 0, 0, 0, 1, 1]\n",
      "[0, 0, None, 1, 0, None, 0, 0, None, 1, 1]\n"
     ]
    }
   ],
   "source": [
    "def encode_fixed(lst, table, code_length=2):\n",
    "    #lst: is a list of symbols such as ['red', 'green', 'blue']\n",
    "    #table: an encoding table\n",
    "    #code_length: length of the codes in the table\n",
    "    \n",
    "    #return a new list that contains the encoded list\n",
    "    \n",
    "    \n",
    "    output = [None]*(code_length*len(lst)) #create an empty list with the appropriate size\n",
    "    \n",
    "    \n",
    "    for i,sym in enumerate(lst):\n",
    "        code = table[sym]\n",
    "        output[i*code_length:(i+1)*(code_length)] = code\n",
    "\n",
    "    return output\n",
    "\n",
    "\n",
    "print(encode_fixed(['red','red','green','black'], encode_table))\n",
    "print(encode_fixed(['red','blue','red','black'], encode_table))\n",
    "print(encode_fixed(['red','blue','red','black'], encode_table, code_length=3))"
   ]
  },
  {
   "cell_type": "code",
   "execution_count": 46,
   "metadata": {},
   "outputs": [
    {
     "name": "stdout",
     "output_type": "stream",
     "text": [
      "['red', 'green', 'black']\n",
      "['red', 'red', 'green', 'black']\n"
     ]
    }
   ],
   "source": [
    "def decode_fixed(enc, table, code_length=2):\n",
    "    #enc list e.g., [0, 0, 0, 0, 0, 1, 1, 1]\n",
    "    #table: a table mapping code words to symbols\n",
    "    #code_length\n",
    "    \n",
    "    output = [None]*(len(enc) // code_length) #create an empty list with the appropriate size\n",
    "    \n",
    "    for i in range(0, len(enc), code_length):\n",
    "        sym = table[tuple(enc[i:i+code_length])]\n",
    "        output[i//code_length] = sym\n",
    "\n",
    "    return output\n",
    "\n",
    "\n",
    "print(decode_fixed([0,0,0,1,1,1], decode_table))\n",
    "\n",
    "enc = encode_fixed(['red','red','green','black'], encode_table)\n",
    "dec = decode_fixed(enc, decode_table)\n",
    "\n",
    "print(dec)"
   ]
  },
  {
   "cell_type": "markdown",
   "metadata": {},
   "source": [
    "That's essentially fixed length encoding, but the key issue is that this scheme is a bit wasteful because we allocate the same number of bits to the most popular colors as the least. Suppose, we new that almost all of the colors in our list were Red. Is there a way to dynamically adjust our encoding to use less space to store strings that we know will show up more often?\n",
    "\n",
    "## A Naive Approach\n",
    "\n",
    "Let's try manually adjust our encoding to scale with popularity. Consider the lookup table before (with the strings annotated with popularity). We sort the strings from most to least popular, assign them a binary key, and then prune the leading zeros.\n",
    "\n",
    "| Color | key |\n",
    "|-------|-------|\n",
    "| Red (0.8)   | 0 |\n",
    "| Green (0.02)  |11|\n",
    "| Blue (0.03)  | 10|\n",
    "| Black (0.15)  | 1|\n",
    "\n",
    "\n",
    "Our previous dictionary encoding approach requires 2-bits per string on average. Let's calculate the average (or expected) storage cost for this new encoding:\n",
    "\n",
    "$$0.8*1 + 0.15*1 + 0.02 * 2 + 0.03 * 2 = 1.05$$\n",
    "\n",
    "Such an encoding is called a \"variable-length\" encoding as it varies with the symbol. Let's see how this works in code"
   ]
  },
  {
   "cell_type": "code",
   "execution_count": 48,
   "metadata": {},
   "outputs": [
    {
     "data": {
      "text/plain": [
       "[0, 0, 1, 1, 1]"
      ]
     },
     "execution_count": 48,
     "metadata": {},
     "output_type": "execute_result"
    }
   ],
   "source": [
    "encode_table = {'red': (0,), 'green': (1,1), 'blue': (1,0), 'black': (1,) }\n",
    "\n",
    "def encode_variable(lst, table):\n",
    "    \n",
    "    output = [] #hard to guess the size before hand have to dynamically size\n",
    "    \n",
    "    for sym in lst:\n",
    "        code = table[sym]\n",
    "        output.extend(code)\n",
    "\n",
    "    return output\n",
    "\n",
    "encode_variable(['red','red','green','black'], encode_table)"
   ]
  },
  {
   "cell_type": "markdown",
   "metadata": {},
   "source": [
    "This means that simply changing the encoding compresses the data by about 50%. But, what goes wrong with this approach? Suppose, we retrieved the bits 10--how do we decode that? Is it \"Black, Red\" or is it \"Blue\". This is the core issue with this naive approach that there is amiguity in the decoding."
   ]
  },
  {
   "cell_type": "code",
   "execution_count": 49,
   "metadata": {},
   "outputs": [
    {
     "name": "stdout",
     "output_type": "stream",
     "text": [
      "[1, 0]\n",
      "[1, 0]\n"
     ]
    }
   ],
   "source": [
    "print(encode_variable(['black','red'], encode_table))\n",
    "print(encode_variable(['blue'], encode_table))"
   ]
  },
  {
   "cell_type": "markdown",
   "metadata": {},
   "source": [
    "## Prefix-Free Codes\n",
    "A careful reader might note that we could side-step this problem (and still get a compression benefit) by encoding the data slightly differently:\n",
    "\n",
    "| Color | key |\n",
    "|-------|-------|\n",
    "| Red (0.8)   | 0 |\n",
    "| Green (0.02)  |110|\n",
    "| Blue (0.03)  | 111|\n",
    "| Black (0.15)  | 10|\n",
    "\n",
    "$$0.8*1 + 0.15*2 + 0.03 * 3 + 0.02 * 3 = 1.25$$\n",
    "\n",
    "If read the data left to right, there is no longer any ambiguity. We simply scan the list until we find a \"full\" key in our lookup table. "
   ]
  },
  {
   "cell_type": "code",
   "execution_count": 51,
   "metadata": {},
   "outputs": [
    {
     "name": "stdout",
     "output_type": "stream",
     "text": [
      "[1, 0, 0, 1, 1, 0]\n",
      "[1, 1, 1, 1, 0]\n",
      "['black', 'red', 'green']\n",
      "['blue', 'black']\n"
     ]
    }
   ],
   "source": [
    "def decode_variable(enc, table):\n",
    "    \n",
    "    output = [] #hard to guess the size before hand have to dynamically size\n",
    "    \n",
    "    buffer = [] #buffer up because you don't know when the current word will end\n",
    "    \n",
    "    for bit in enc:\n",
    "        buffer.append(bit)\n",
    "        \n",
    "        if tuple(buffer) in table:\n",
    "            output.append(table[tuple(buffer)])\n",
    "            buffer = []\n",
    "            \n",
    "    \n",
    "    if len(buffer) > 0:\n",
    "        output.append(table[tuple(buffer)]) #why do we need this???\n",
    "\n",
    "    return output\n",
    "\n",
    "encode_table = {'red': (0,), 'green': (1,1,0), 'blue': (1,1,1), 'black': (1,0) }\n",
    "decode_table = {(0,):'red', (1,1,0):'green', (1,1,1):'blue', (1,0):'black' }\n",
    "\n",
    "enc1 = encode_variable(['black','red', 'green'], encode_table)\n",
    "print(enc1)\n",
    "\n",
    "enc2 = encode_variable(['blue', 'black'], encode_table)\n",
    "print(enc2)\n",
    "\n",
    "print(decode_variable(enc1, decode_table))\n",
    "print(decode_variable(enc2, decode_table))\n",
    "    "
   ]
  },
  {
   "cell_type": "markdown",
   "metadata": {},
   "source": [
    "This works because each of the keys is prefix-free. A prefix-free encoding is a key that requires that there is no whole code word in the system that is a prefix (initial segment) of any other code word in the system. Luckily, we don't have to design such schemes by hand. There are algorithms that can find very efficient prefix-free encodings. \n",
    "\n",
    "## Huffman Coding\n",
    "Huffman's encodes data by building a binary tree where the leaves are strings. The basic strategy is to go bottom up. Keep on grouping the lowest probability strings into common prefixes until there are none left:\n",
    "\n",
    "<img src=\"https://upload.wikimedia.org/wikipedia/commons/thumb/7/74/Huffman_coding_example.svg/1920px-Huffman_coding_example.svg.png\" width=\"500\"/>\n",
    "\n",
    "We can easily express this algorithm in code. The first step is to write the bottom up algorithm that builds the tree of symbols."
   ]
  },
  {
   "cell_type": "code",
   "execution_count": 24,
   "metadata": {},
   "outputs": [
    {
     "name": "stdout",
     "output_type": "stream",
     "text": [
      "(1.0, ((0.41666666666666663, ((0.19444444444444442, ((0.08333333333333333, ['10']), (0.1111111111111111, ['5']))), (0.2222222222222222, ((0.1111111111111111, ['9']), (0.1111111111111111, ((0.05555555555555555, ['3']), (0.05555555555555555, ['11']))))))), (0.5833333333333334, ((0.2777777777777778, ((0.1388888888888889, ['6']), (0.1388888888888889, ['8']))), (0.3055555555555556, ((0.1388888888888889, ((0.05555555555555555, ((0.027777777777777776, ['2']), (0.027777777777777776, ['12']))), (0.08333333333333333, ['4']))), (0.16666666666666666, ['7'])))))))\n"
     ]
    }
   ],
   "source": [
    "#expect input of the form [(.95,['s1']), (.05,['s2'])]\n",
    "\n",
    "def build_tree(strings):\n",
    "    '''Given a set of strings and their associated\n",
    "       probabilities build a tree with nested lists\n",
    "    '''\n",
    "    \n",
    "    while len(strings) > 1:\n",
    "        \n",
    "        strings.sort(key=lambda x: x[0]) #sort by \n",
    "        \n",
    "        p1,s1 = strings[0] #get lowest\n",
    "        p2,s2 = strings[1] #get lowest\n",
    "        \n",
    "        del strings[0]\n",
    "        del strings[0]\n",
    "        \n",
    "        strings.append((p1+p2, ((p1,s1),(p2,s2)) ))\n",
    "        \n",
    "        #print(strings)\n",
    "    \n",
    "    return strings[0]\n",
    "\n",
    "#tree = build_tree([(.65,['red']), (.02,['green']), (.03,['blue']), (.15,['black']), (.15,['magenta'])])\n",
    "tree = build_tree([( (6-abs(7-roll))/36 ,[str(roll)]) for roll in range(2,13,1)])\n",
    "\n",
    "print(tree)\n",
    "  "
   ]
  },
  {
   "cell_type": "markdown",
   "metadata": {},
   "source": [
    "Then, we have a top down traversal that assigns codes:"
   ]
  },
  {
   "cell_type": "code",
   "execution_count": 25,
   "metadata": {},
   "outputs": [
    {
     "name": "stdout",
     "output_type": "stream",
     "text": [
      "['10'] 111\n",
      "['5'] 110\n",
      "['9'] 101\n",
      "['3'] 1001\n",
      "['11'] 1000\n",
      "['6'] 011\n",
      "['8'] 010\n",
      "['2'] 00111\n",
      "['12'] 00110\n",
      "['4'] 0010\n",
      "['7'] 000\n"
     ]
    }
   ],
   "source": [
    "def assign_codes(tree, code=''):\n",
    "    \n",
    "    p,s = tree\n",
    "    \n",
    "    if len(s) == 1:\n",
    "       print(s, code)\n",
    "    else:\n",
    "        assign_codes(s[0],code+'1')\n",
    "        assign_codes(s[1],code+'0')\n",
    "\n",
    "assign_codes(tree)"
   ]
  },
  {
   "cell_type": "code",
   "execution_count": null,
   "metadata": {},
   "outputs": [],
   "source": []
  }
 ],
 "metadata": {
  "kernelspec": {
   "display_name": "Python 3",
   "language": "python",
   "name": "python3"
  },
  "language_info": {
   "codemirror_mode": {
    "name": "ipython",
    "version": 3
   },
   "file_extension": ".py",
   "mimetype": "text/x-python",
   "name": "python",
   "nbconvert_exporter": "python",
   "pygments_lexer": "ipython3",
   "version": "3.7.4"
  }
 },
 "nbformat": 4,
 "nbformat_minor": 2
}
