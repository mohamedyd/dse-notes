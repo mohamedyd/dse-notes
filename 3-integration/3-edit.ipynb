{
 "cells": [
  {
   "cell_type": "markdown",
   "metadata": {},
   "source": [
    "# String Similarity II\n",
    "Jaccard similarity is a pretty naive metric--it does not consider the order of words and it does not do well with spelling errors. However, it admits an O(n) time approximation algorithm. In this lecture, we will consider the opposite extreme. A much more comprehesive string similarity metric but one that is much harder to compute. For the rest of this lecture, we will assume tokenization at the granularity of each individual character.\n",
    "\n",
    "## Levenshtein (Edit) Distance\n",
    "The Levenshtein distance is a string metric for measuring the difference between two sequences. Informally, the Levenshtein distance between two words is the minimum number of single-character edits (insertions, deletions or substitutions) required to change one word into the other. Let see a few examples that have an edit distance of 1:"
   ]
  },
  {
   "cell_type": "code",
   "execution_count": 1,
   "metadata": {},
   "outputs": [],
   "source": [
    "strs = ('abc','ab')\n",
    "#the edit distance is 1 (delete c)\n",
    "\n",
    "strs = ('abc','abd')\n",
    "#the edit distance is 1 (substitue c with d)\n",
    "\n",
    "strs = ('abc','abec')\n",
    "#the edit distance is 1 (insert e after b)"
   ]
  },
  {
   "cell_type": "markdown",
   "metadata": {},
   "source": [
    "We can of course consider more complicated comparisons:"
   ]
  },
  {
   "cell_type": "code",
   "execution_count": 2,
   "metadata": {},
   "outputs": [],
   "source": [
    "strs = ('bac','abd')\n",
    "#the edit distance is 3 (insert a, delete a, subtitute c)"
   ]
  },
  {
   "cell_type": "markdown",
   "metadata": {},
   "source": [
    "The edit distance $d(s,t)$ satisfies all of the properties one would expect from a distance measure:\n",
    "$$d(s,t) = 0 \\implies s = t \\text{ and } s = t \\implies d(s,t) = 0$$\n",
    "$$d(s,t) = d(t,s)$$\n",
    "$$d(s,t) + d(t, u) \\ge d(s,u)$$"
   ]
  },
  {
   "cell_type": "markdown",
   "metadata": {},
   "source": [
    "## A Simple Recursive Algorithm\n",
    "The Levenshtein distance is easy to compute in the cases above but what if you were given very long arbitrary strings? We need a computational method to calculate this distance. Here is a simple recursive algorithm to compute this distance."
   ]
  },
  {
   "cell_type": "code",
   "execution_count": 3,
   "metadata": {},
   "outputs": [],
   "source": [
    "def edit_distance(s,t):\n",
    "\n",
    "    #base cases if either string is empty, or they match\n",
    "    if s == \"\":\n",
    "        return len(t)\n",
    "    \n",
    "    if t == \"\":\n",
    "        return len(s)\n",
    "    \n",
    "    if s == t:\n",
    "        return 0\n",
    "    \n",
    "    #recursive step!!\n",
    "    return min([ 1 + edit_distance(s[1:], t) , #1 step insertion\n",
    "                 1 + edit_distance(s, t[1:]) , #1 step deletion\n",
    "                 (s[0] != t[0]) + edit_distance(s[1:], t[1:]) ]) #1 step substitution"
   ]
  },
  {
   "cell_type": "code",
   "execution_count": 4,
   "metadata": {},
   "outputs": [
    {
     "data": {
      "text/plain": [
       "3"
      ]
     },
     "execution_count": 4,
     "metadata": {},
     "output_type": "execute_result"
    }
   ],
   "source": [
    "edit_distance('kitten','sitting')"
   ]
  },
  {
   "cell_type": "code",
   "execution_count": 5,
   "metadata": {},
   "outputs": [
    {
     "data": {
      "text/plain": [
       "6"
      ]
     },
     "execution_count": 5,
     "metadata": {},
     "output_type": "execute_result"
    }
   ],
   "source": [
    "edit_distance('kittens on','sitting')"
   ]
  },
  {
   "cell_type": "markdown",
   "metadata": {},
   "source": [
    "This code seems slow for even moderately sized strings. How can we make this faster?"
   ]
  },
  {
   "cell_type": "markdown",
   "metadata": {},
   "source": [
    "## A Faster Algorithm \n",
    "Let's get some intuition on why this algorithm is slow. We can add a print statement to track what pairs of sub strings are compared by the function:"
   ]
  },
  {
   "cell_type": "code",
   "execution_count": 22,
   "metadata": {},
   "outputs": [],
   "source": [
    "def edit_distance_print(s,t):\n",
    "    \n",
    "    print(\"Comparing\", s, t)\n",
    "\n",
    "    #base cases if either string is empty, or they match\n",
    "    if s == \"\":\n",
    "        return len(t)\n",
    "    \n",
    "    if t == \"\":\n",
    "        return len(s)\n",
    "    \n",
    "    if s == t:\n",
    "        return 0\n",
    "    \n",
    "    #recursive step!!\n",
    "    return min([ 1 + edit_distance_print(s[1:], t) , #1 step insertion\n",
    "                 1 + edit_distance_print(s, t[1:]) , #1 step deletion\n",
    "                 (s[0] != t[0]) + edit_distance_print(s[1:], t[1:]) ]) #1 step substitution"
   ]
  },
  {
   "cell_type": "code",
   "execution_count": 23,
   "metadata": {},
   "outputs": [
    {
     "name": "stdout",
     "output_type": "stream",
     "text": [
      "Comparing abc abd\n",
      "Comparing bc abd\n",
      "Comparing c abd\n",
      "Comparing  abd\n",
      "Comparing c bd\n",
      "Comparing  bd\n",
      "Comparing c d\n",
      "Comparing  d\n",
      "Comparing c \n",
      "Comparing  \n",
      "Comparing  d\n",
      "Comparing  bd\n",
      "Comparing bc bd\n",
      "Comparing c bd\n",
      "Comparing  bd\n",
      "Comparing c d\n",
      "Comparing  d\n",
      "Comparing c \n",
      "Comparing  \n",
      "Comparing  d\n",
      "Comparing bc d\n",
      "Comparing c d\n",
      "Comparing  d\n",
      "Comparing c \n",
      "Comparing  \n",
      "Comparing bc \n",
      "Comparing c \n",
      "Comparing c d\n",
      "Comparing  d\n",
      "Comparing c \n",
      "Comparing  \n",
      "Comparing c bd\n",
      "Comparing  bd\n",
      "Comparing c d\n",
      "Comparing  d\n",
      "Comparing c \n",
      "Comparing  \n",
      "Comparing  d\n",
      "Comparing abc bd\n",
      "Comparing bc bd\n",
      "Comparing c bd\n",
      "Comparing  bd\n",
      "Comparing c d\n",
      "Comparing  d\n",
      "Comparing c \n",
      "Comparing  \n",
      "Comparing  d\n",
      "Comparing bc d\n",
      "Comparing c d\n",
      "Comparing  d\n",
      "Comparing c \n",
      "Comparing  \n",
      "Comparing bc \n",
      "Comparing c \n",
      "Comparing c d\n",
      "Comparing  d\n",
      "Comparing c \n",
      "Comparing  \n",
      "Comparing abc d\n",
      "Comparing bc d\n",
      "Comparing c d\n",
      "Comparing  d\n",
      "Comparing c \n",
      "Comparing  \n",
      "Comparing bc \n",
      "Comparing c \n",
      "Comparing abc \n",
      "Comparing bc \n",
      "Comparing bc d\n",
      "Comparing c d\n",
      "Comparing  d\n",
      "Comparing c \n",
      "Comparing  \n",
      "Comparing bc \n",
      "Comparing c \n",
      "Comparing bc bd\n",
      "Comparing c bd\n",
      "Comparing  bd\n",
      "Comparing c d\n",
      "Comparing  d\n",
      "Comparing c \n",
      "Comparing  \n",
      "Comparing  d\n",
      "Comparing bc d\n",
      "Comparing c d\n",
      "Comparing  d\n",
      "Comparing c \n",
      "Comparing  \n",
      "Comparing bc \n",
      "Comparing c \n",
      "Comparing c d\n",
      "Comparing  d\n",
      "Comparing c \n",
      "Comparing  \n"
     ]
    },
    {
     "data": {
      "text/plain": [
       "1"
      ]
     },
     "execution_count": 23,
     "metadata": {},
     "output_type": "execute_result"
    }
   ],
   "source": [
    "edit_distance_print('abc','abd') #look at c bd"
   ]
  },
  {
   "cell_type": "markdown",
   "metadata": {},
   "source": [
    "Check out how many times the tuple \"c\", \"bd\" shows up. There is a bunch of duplicated work in this algorithm. The recursive function recalculates things that it has already done! "
   ]
  },
  {
   "cell_type": "code",
   "execution_count": 26,
   "metadata": {},
   "outputs": [],
   "source": [
    "result_cache = {}\n",
    "\n",
    "def edit_distance_mem(s,t):\n",
    "    \n",
    "    if s == \"\":\n",
    "        \n",
    "        #cache the result\n",
    "        result_cache[(s,t)] = len(t)\n",
    "        \n",
    "        return len(t)\n",
    "    \n",
    "    if t == \"\":\n",
    "        \n",
    "        #cache the result\n",
    "        result_cache[(s,t)] = len(s)\n",
    "        \n",
    "        return len(s)\n",
    "    \n",
    "    if s == t:\n",
    "        \n",
    "        #cache the result\n",
    "        result_cache[(s,t)] = 0\n",
    "        \n",
    "        return 0\n",
    "    \n",
    "    #recursive step!!\n",
    "    rtn =  min([ 1 + edit_distance_mem(s[1:], t) , #1 step insertion\n",
    "                 1 + edit_distance_mem(s, t[1:]) , #1 step deletion\n",
    "                 (s[0] != t[0]) + edit_distance_mem(s[1:], t[1:]) ]) #1 step substitution\n",
    "    \n",
    "    result_cache[(s,t)] = rtn\n",
    "    \n",
    "    return rtn"
   ]
  },
  {
   "cell_type": "code",
   "execution_count": 27,
   "metadata": {},
   "outputs": [
    {
     "name": "stdout",
     "output_type": "stream",
     "text": [
      "abc abd\n",
      "bc abd\n",
      "c abd\n",
      " abd\n",
      "c bd\n",
      " bd\n",
      "c d\n",
      " d\n",
      "c \n",
      " \n",
      " d\n",
      " bd\n",
      "bc bd\n",
      "c bd\n",
      " bd\n",
      "c d\n",
      " d\n",
      "c \n",
      " \n",
      " d\n",
      "bc d\n",
      "c d\n",
      " d\n",
      "c \n",
      " \n",
      "bc \n",
      "c \n",
      "c d\n",
      " d\n",
      "c \n",
      " \n",
      "c bd\n",
      " bd\n",
      "c d\n",
      " d\n",
      "c \n",
      " \n",
      " d\n",
      "abc bd\n",
      "bc bd\n",
      "c bd\n",
      " bd\n",
      "c d\n",
      " d\n",
      "c \n",
      " \n",
      " d\n",
      "bc d\n",
      "c d\n",
      " d\n",
      "c \n",
      " \n",
      "bc \n",
      "c \n",
      "c d\n",
      " d\n",
      "c \n",
      " \n",
      "abc d\n",
      "bc d\n",
      "c d\n",
      " d\n",
      "c \n",
      " \n",
      "bc \n",
      "c \n",
      "abc \n",
      "bc \n",
      "bc d\n",
      "c d\n",
      " d\n",
      "c \n",
      " \n",
      "bc \n",
      "c \n",
      "bc bd\n",
      "c bd\n",
      " bd\n",
      "c d\n",
      " d\n",
      "c \n",
      " \n",
      " d\n",
      "bc d\n",
      "c d\n",
      " d\n",
      "c \n",
      " \n",
      "bc \n",
      "c \n",
      "c d\n",
      " d\n",
      "c \n",
      " \n"
     ]
    },
    {
     "data": {
      "text/plain": [
       "1"
      ]
     },
     "execution_count": 27,
     "metadata": {},
     "output_type": "execute_result"
    }
   ],
   "source": [
    "edit_distance_mem('abc','abd') #look at c bd"
   ]
  },
  {
   "cell_type": "code",
   "execution_count": null,
   "metadata": {},
   "outputs": [],
   "source": []
  }
 ],
 "metadata": {
  "kernelspec": {
   "display_name": "Python 3",
   "language": "python",
   "name": "python3"
  },
  "language_info": {
   "codemirror_mode": {
    "name": "ipython",
    "version": 3
   },
   "file_extension": ".py",
   "mimetype": "text/x-python",
   "name": "python",
   "nbconvert_exporter": "python",
   "pygments_lexer": "ipython3",
   "version": "3.7.0"
  }
 },
 "nbformat": 4,
 "nbformat_minor": 2
}
