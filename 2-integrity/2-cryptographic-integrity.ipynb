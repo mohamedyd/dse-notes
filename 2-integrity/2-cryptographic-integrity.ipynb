{
 "cells": [
  {
   "cell_type": "markdown",
   "metadata": {},
   "source": [
    "# Cryptographic Integrity\n",
    "\n",
    "The techniques described in the previous lecture are great when data are unintentionally corrupted. Next, we consider building tamper-resistant data structures.\n",
    "\n",
    "## Cryptographic Hash Functions\n",
    "A cryptographic hash function is a particularly strng hash function that is suitable for use in cryptography. Essentially, it is a hash function that is very hard to \"reverse engineer\" (look at a hash value and figure out an input that generates it). Like a regular hash function, it maps data of arbitrary size (often called the \"message\") to a bit string of a fixed size (the \"hash value\", \"hash\", or \"message digest\"). Ideally, the only way to find a message that produces a given hash is to attempt a brute-force search of possible inputs to see if they produce a match. The reason that we don't always use cryptographic hashes is that they are expensive to compute and if you have no reason to defend against intentional manipulation, they are wasteful to use. Python has libraries for computing such hashes:"
   ]
  },
  {
   "cell_type": "code",
   "execution_count": 5,
   "metadata": {},
   "outputs": [
    {
     "name": "stdout",
     "output_type": "stream",
     "text": [
      "Nobody inspects => e7a3f808cb0687fd3660e956a5df0f00e23edac5650769ec354ee670b658858c\n",
      "the bear => 12f9f73cf1dff081f84acc6a4e3bbb7e492f31f2ae8136f58d4204eb7e92ab0b\n"
     ]
    }
   ],
   "source": [
    "import hashlib\n",
    "m = hashlib.sha256()\n",
    "m.update(b\"Nobody inspects\")\n",
    "print('Nobody inspects =>', m.hexdigest())\n",
    "\n",
    "m.update(b\"the bear\")\n",
    "print('the bear =>', m.hexdigest())"
   ]
  },
  {
   "cell_type": "markdown",
   "metadata": {},
   "source": [
    "## Hash Lists\n",
    "Let's consider the following example where we want to hash a relatively long string:"
   ]
  },
  {
   "cell_type": "code",
   "execution_count": 6,
   "metadata": {},
   "outputs": [
    {
     "name": "stdout",
     "output_type": "stream",
     "text": [
      "574dfb2660b156fb9c6128264cca0a94e8b5e5e973b845ac459a9703251d14ee\n"
     ]
    }
   ],
   "source": [
    "m.update(b\"the quick brown fox jumped over the lazy dog\")\n",
    "print(m.hexdigest())"
   ]
  },
  {
   "cell_type": "markdown",
   "metadata": {},
   "source": [
    "Suppose one of those characters was tampered with (an extra space after quick):"
   ]
  },
  {
   "cell_type": "code",
   "execution_count": 9,
   "metadata": {},
   "outputs": [
    {
     "name": "stdout",
     "output_type": "stream",
     "text": [
      "01b17f5a3ab28c81c42ed55239d7ea940eab01d9274edf3babb474b8727081fa\n"
     ]
    }
   ],
   "source": [
    "m.update(b\"the quick  brown fox jumped over the lazy dog\")\n",
    "print(m.hexdigest())"
   ]
  },
  {
   "cell_type": "markdown",
   "metadata": {},
   "source": [
    "The change in hash value only tells you that there is some modification you have no idea where that modification is or how significant it is. It could be minor (like a change in the example above where there is a single extra space) or it could be major like the entire string is modified. The nature of a cryptographic hash makes it difficult to differentiate between such cases. \n",
    "\n",
    "One solution is to break the data into smaller blocks and hash each of the blocks individually. "
   ]
  },
  {
   "cell_type": "code",
   "execution_count": 16,
   "metadata": {},
   "outputs": [
    {
     "data": {
      "text/plain": [
       "[(12, '51c9c458bad4def01e660dbe88b543ffb4f22d2e2862eadc06f113fa8fb33651'),\n",
       " (24, '45e8f808b2b813ec5cbb106b9b1a92280540b589bcc0cd7e5f3e98e93f489172'),\n",
       " (36, '43c8cec4930559f2af27abbf7968f6fa721613a7fa9662f299c64233f79e7c93'),\n",
       " (45, '32b9f1215bc9b16eef72c08a306c4773cf15e8b36f5d512b4699ca2100b8e8f0')]"
      ]
     },
     "execution_count": 16,
     "metadata": {},
     "output_type": "execute_result"
    }
   ],
   "source": [
    "def hashlist(data, blocksize=4):\n",
    "    datablocks = []\n",
    "    \n",
    "    for i in range(blocksize, len(data), blocksize):\n",
    "        m.update(bytes(data[i-blocksize:i]))\n",
    "        datablocks.append((i, m.hexdigest()))\n",
    "    \n",
    "    #deal with the last block\n",
    "    if i != len(data) - 1:\n",
    "        m.update(bytes(data[i:len(data)]))\n",
    "        datablocks.append((len(data), m.hexdigest()))\n",
    "        \n",
    "    return datablocks\n",
    "\n",
    "hashlist(b\"the quick  brown fox jumped over the lazy dog\", blocksize=12)"
   ]
  },
  {
   "cell_type": "markdown",
   "metadata": {},
   "source": [
    "Then, we can check each block individually to see if it has been tampered with. The downside is that determining whether there is any data modification can be expensive if the size of the data set is very large (have to check each block). \n",
    "\n",
    "## Merkle Tree\n",
    "\n",
    "How do we efficiently figure out which blocks have been modified? Let's start with a simpler problem: given the list above, how do we figure out if \"any\" of the blocks have been modified. One easy solution is to just hash the entire list!"
   ]
  },
  {
   "cell_type": "code",
   "execution_count": 20,
   "metadata": {},
   "outputs": [
    {
     "name": "stdout",
     "output_type": "stream",
     "text": [
      "Blocks [(12, '7ffcdcb1868e1de9a1f998458a6e4ec150c7a781c5a941285eb3a4c81f2a3849'), (24, '40c69f3c9dd37340bd3bc9ea468a69a5970225e37c80c264951b7bf7213ddc9d'), (36, 'd20e929509a7b06cab9ba5153a3098da6d10abfdeb164a2c8696506eb9651cfa'), (45, '7887ce2c31943717b2ddc792c70d5d004a407c8285408d444285bf1cc405606a')]\n",
      "\n",
      "All Blocks e3db9f67e1d3676cdc78a98144458ed002e80d0acdcdc53ed659cc15fad7e566\n"
     ]
    }
   ],
   "source": [
    "blocks = hashlist(b\"the quick  brown fox jumped over the lazy dog\", blocksize=12)\n",
    "print('Blocks', blocks)\n",
    "\n",
    "print()\n",
    "\n",
    "m.update(bytes(str(blocks),encoding='utf8'))\n",
    "print('All Blocks', m.hexdigest())"
   ]
  },
  {
   "cell_type": "markdown",
   "metadata": {},
   "source": [
    "Any modification to any of the blocks will change the hash of the entire list. We can use this insight to recursively build a tree data structure, where every parent hashes a list of its children's hashes. To identify tampered blocks, you simply traverse down the tree identifying mismatched hashes. The tree takes the form as follows (from wikipedia):\n",
    "\n",
    "![Merkle Tree](https://upload.wikimedia.org/wikipedia/commons/thumb/9/95/Hash_Tree.svg/1024px-Hash_Tree.svg.png)"
   ]
  },
  {
   "cell_type": "code",
   "execution_count": null,
   "metadata": {},
   "outputs": [],
   "source": []
  }
 ],
 "metadata": {
  "kernelspec": {
   "display_name": "Python 3",
   "language": "python",
   "name": "python3"
  },
  "language_info": {
   "codemirror_mode": {
    "name": "ipython",
    "version": 3
   },
   "file_extension": ".py",
   "mimetype": "text/x-python",
   "name": "python",
   "nbconvert_exporter": "python",
   "pygments_lexer": "ipython3",
   "version": "3.7.0"
  }
 },
 "nbformat": 4,
 "nbformat_minor": 2
}
