{
 "cells": [
  {
   "cell_type": "markdown",
   "metadata": {},
   "source": [
    "# Automated Reasoning and Functional Dependencies\n",
    "\n",
    "Full disclosure...this lecture is not terribly useful for most people but it is a good intellectual exercise. Automated reasoning is the area of computer science that is concerned with applying reasoning in the form of logic to computing systems. If given a set of assumptions and a goal, an automated reasoning system should be able to make logical inferences towards that goal automatically. \n",
    "\n",
    "One reason that functional dependencies are interesting is that computers can automatically make higher-level judgements about them. What does this mean? Suppose I know that $f_1$ and $f_2$ hold on a database, a computer might be able to automatically deduce that $f_3$ holds without having to actually test it out!\n",
    "\n",
    "## Notation\n",
    "Before we get started, let's define some mathematical notation. Every table $R$ can be described by $n$ rows over set of attributes (columns) $A={a_1,a_2,...,a_p}$:\n",
    "\n",
    "| a1     | a2     | ... | ap     |\n",
    "| ------ | ------ | --- | ------ |\n",
    "| v1a1   | v1a2   | ... | v1ap   |\n",
    "| ...    | ...    | ... | ...    |\n",
    "| vna1   | vna2   | ... | vnap   |\n",
    "\n",
    "Let $X$ be a subset of attributes $X \\subseteq A$, e.g., column 1,3,4 or 3,5 or just 5. For each row $r \\in R$, we can denote the projection onto the attributes $X$ as $r[X]$. $r[X]$ is a tuple of values; one representing each attribute in $X$.\n",
    "\n",
    "A functional dependency $f_i$ is a relationship between sets of attributes and is denoted by $X \\rightarrow Y$, where $X \\subseteq A$ and $Y \\subseteq A$. \n",
    "\n",
    "$f_i$ is satisfied (or it \"holds\" on a table $R$) if and only iff:\n",
    "$$\\forall r,s \\in R \\text{ if } r[X] = s[X] \\implies r[Y] = s[Y]$$\n",
    "This is a mathematical formalization of the intuitive defintion that we gave in the previous lecture.\n",
    "\n",
    "## Armstrong's Axioms\n",
    "Armstrong's axioms formalize some basic rules for reasoning about functional dependencies. They are actually quite intuitive. Think of them as information relationships: $X \\rightarrow Y$ \"X has enough information to uniquely determine Y\".\n",
    "\n",
    "* (Augmentation) If $X \\rightarrow Y$ holds, then $XZ \\rightarrow YZ$ also holds for any $Z$ ($XZ$ is short hand for $X \\cup Z$. Basically, if X determines Y, then adding the same information on both sizes ($Z$) doesn't change that.\n",
    "\n",
    "* (Transitivity) If $X \\rightarrow Y$ and $Y \\rightarrow Z$, then $X \\rightarrow Z$. Similarly, if X determines Y and Y determines Z, clearly X determines X---follow the arrows!\n",
    "\n",
    "* (Reflexivity) If Y is a subset of X, then it must be true that $X \\rightarrow Y$. This is the trivial case where every set of attributes determine itself (or projections of itself).\n",
    "\n",
    "*Example* We can use these basic axioms to prove more complex relationships. For example, suppose $X \\rightarrow Y$ and $Y \\rightarrow Z$ are true, is it true that $X \\rightarrow YZ$ also holds over the same data?\n",
    "* (Applying Augmentation) $YY \\rightarrow YZ$ and since $Y \\cup Y = Y$, this is equivalent to $Y \\rightarrow YZ$\n",
    "* (Applying Transitivity) $X \\rightarrow Y$ and $Y \\rightarrow YZ$, therefore $X \\rightarrow YZ \\blacksquare$\n",
    "\n",
    "\n",
    "## Attribute Closure Algorithm\n",
    "We can express these above rules in code in an algorithm called Attribute Closure. The set of attributes that are functionally dependent on the attribute A is called Attribute Closure of A. First, let's define a helper function that will be useful called powerset which calculates all subsets of a set:"
   ]
  },
  {
   "cell_type": "code",
   "execution_count": 16,
   "metadata": {},
   "outputs": [],
   "source": [
    "from itertools import chain, combinations\n",
    "\n",
    "#calculates the powerset of a set of numbers\n",
    "def powerset(iterable):\n",
    "    \"powerset([1,2,3]) --> () (1,) (2,) (3,) (1,2) (1,3) (2,3) (1,2,3)\"\n",
    "    s = list(iterable)\n",
    "    return chain.from_iterable(combinations(s, r) for r in range(len(s)+1))"
   ]
  },
  {
   "cell_type": "markdown",
   "metadata": {},
   "source": [
    "Then, let's define a functional dependency data structure as follows:"
   ]
  },
  {
   "cell_type": "code",
   "execution_count": 22,
   "metadata": {},
   "outputs": [],
   "source": [
    "ex_fds = {(1,2,3): (4,), (1,2): (5,)}\n",
    "#123->4 and 12->5 (123 -> 5 is implied!)"
   ]
  },
  {
   "cell_type": "code",
   "execution_count": 25,
   "metadata": {},
   "outputs": [],
   "source": [
    "def closure(attrs, fds, traversed=set()):\n",
    "    '''Calculates the attribute closure of a set of attributes \n",
    "       assuming a given set of FDs is true.\n",
    "    '''\n",
    "\n",
    "    if len(attrs) <= 1:\n",
    "        return set(attrs) #basecase\n",
    "    \n",
    "    if attrs in traversed:\n",
    "        return set() #basecase\n",
    "    \n",
    "    #recursive case\n",
    "    rtn = set()\n",
    "    \n",
    "    if attrs in fds:\n",
    "        rtn = rtn.union(closure(fds[attrs],fds,traversed.union(set([attrs]))))\n",
    "    \n",
    "    for subattr in powerset(attrs):\n",
    "        rtn = rtn.union(closure(subattr,fds,traversed.union(set([attrs]))))\n",
    "    \n",
    "    return rtn\n"
   ]
  },
  {
   "cell_type": "markdown",
   "metadata": {},
   "source": [
    "We can run this code by doing the following:"
   ]
  },
  {
   "cell_type": "code",
   "execution_count": 26,
   "metadata": {},
   "outputs": [
    {
     "data": {
      "text/plain": [
       "{1, 2, 5}"
      ]
     },
     "execution_count": 26,
     "metadata": {},
     "output_type": "execute_result"
    }
   ],
   "source": [
    "closure((1,2),ex_fds)"
   ]
  },
  {
   "cell_type": "code",
   "execution_count": null,
   "metadata": {},
   "outputs": [],
   "source": []
  }
 ],
 "metadata": {
  "kernelspec": {
   "display_name": "Python 3",
   "language": "python",
   "name": "python3"
  },
  "language_info": {
   "codemirror_mode": {
    "name": "ipython",
    "version": 3
   },
   "file_extension": ".py",
   "mimetype": "text/x-python",
   "name": "python",
   "nbconvert_exporter": "python",
   "pygments_lexer": "ipython3",
   "version": "3.7.0"
  }
 },
 "nbformat": 4,
 "nbformat_minor": 2
}
