{
 "cells": [
  {
   "cell_type": "markdown",
   "metadata": {},
   "source": [
    "# Main-Memory Aggregation\n",
    "A core primitive in data systems is aggregation. For example, we may want to compute the mean value of a set of numbers. Or, we may want to understand if two groups of users have different engagement rates with our mobile app. These types of operations cannot be answered by the select, project, and join, operators described in the last lecture. Aggregation is substantially more complicated to implement, and despite its prevalence, is often a core systems bottleneck.\n",
    "\n",
    "## An Aggregation Function\n",
    "An aggregation function is a function $F$ that takes in an iterator of tuples (of the same schema of course!) and returns a single atomic value. Examples include `sum(set_of_numbers)`, `max(set_of_numbers)`, `concat(set_of_strings)`. Why is aggregation so difficult? Let's look at the common structure of the examples above. We've described the code to perform the aggregation in a specific way:"
   ]
  },
  {
   "cell_type": "code",
   "execution_count": 1,
   "metadata": {},
   "outputs": [
    {
     "name": "stdout",
     "output_type": "stream",
     "text": [
      "Sum 10\n",
      "Max 10\n",
      "Concat abcd\n"
     ]
    }
   ],
   "source": [
    "lst = [1,2,3,4]\n",
    "s = 0\n",
    "for i in lst:\n",
    "    s = sum((s,i))\n",
    "print(\"Sum:\", s)\n",
    "\n",
    "\n",
    "lst = [1,2,3,4]\n",
    "m = 0\n",
    "for i in lst:\n",
    "    m = max(m,i)\n",
    "print(\"Max:\", s)\n",
    "\n",
    "\n",
    "lst = ['a','b','c','d']\n",
    "s = ''\n",
    "for i in lst:\n",
    "    s = ''.join((s,i))\n",
    "print(\"Concat:\", s)"
   ]
  },
  {
   "cell_type": "markdown",
   "metadata": {},
   "source": [
    "For these aggregates a single number \"summarizes\" the state of the aggregation. The aggregation can proceed value by value and fold each new value into the running aggregate. However, we may not get so lucky. Let's see what happens when we do this to compute a mean:"
   ]
  },
  {
   "cell_type": "code",
   "execution_count": 3,
   "metadata": {},
   "outputs": [
    {
     "name": "stdout",
     "output_type": "stream",
     "text": [
      "Result: 3.0625 Actual: 2.5\n"
     ]
    }
   ],
   "source": [
    "#WRONG!!!!!\n",
    "lst = [1,2,3,4]\n",
    "m = 0\n",
    "for i in lst:\n",
    "    m = 0.5*m + 0.5*i\n",
    "print('Result:', m, 'Actual:', 2.5)"
   ]
  },
  {
   "cell_type": "markdown",
   "metadata": {},
   "source": [
    "A mean value is not incrementable in the same way. One way to think about it is that it requires more persistent state to be incrementable. For example, if we tracked both the sum and the count:"
   ]
  },
  {
   "cell_type": "code",
   "execution_count": 4,
   "metadata": {},
   "outputs": [
    {
     "name": "stdout",
     "output_type": "stream",
     "text": [
      "Result: 2.5 Actual: 2.5\n"
     ]
    }
   ],
   "source": [
    "#Correct!!!!!\n",
    "lst = [1,2,3,4]\n",
    "s,c = 0,0\n",
    "for i in lst:\n",
    "    s = sum((s,i))\n",
    "    c = sum((c,1))\n",
    "    \n",
    "print('Result:', s/c, 'Actual:', 2.5)"
   ]
  },
  {
   "cell_type": "markdown",
   "metadata": {},
   "source": [
    "The basic structure of an aggregator looks as follows:"
   ]
  },
  {
   "cell_type": "code",
   "execution_count": null,
   "metadata": {},
   "outputs": [],
   "source": [
    "state = [] #initialize state\n",
    "for i in lst:\n",
    "    #update state\n",
    "    pass"
   ]
  },
  {
   "cell_type": "markdown",
   "metadata": {},
   "source": [
    "There is no guarantee that this state is \"small\". Some aggregates essentially require representing the whole set as its aggregation state. "
   ]
  },
  {
   "cell_type": "markdown",
   "metadata": {},
   "source": [
    "# Aggregate By Key\n",
    "We're often interested in comparing different subsets of data. For example, computing the average salary for each branch. Or, computing the treatment effect for a control group v.s. an experimental group. This process is called aggregation by key. For example, if we have a list of key, value pairs:"
   ]
  },
  {
   "cell_type": "code",
   "execution_count": 5,
   "metadata": {},
   "outputs": [],
   "source": [
    "lst = [('A',1),('B',2),('A',3),('B', 4)]"
   ]
  },
  {
   "cell_type": "markdown",
   "metadata": {},
   "source": [
    "We might want to calculate the total sum for each key. This means that *we will have to maintain the state of each key's aggregates*."
   ]
  },
  {
   "cell_type": "code",
   "execution_count": 9,
   "metadata": {},
   "outputs": [
    {
     "name": "stdout",
     "output_type": "stream",
     "text": [
      "Sum: {'A': 4, 'B': 6}\n"
     ]
    }
   ],
   "source": [
    "lst = [('A',1),('B',2),('A',3),('B', 4)]\n",
    "\n",
    "state = {} # a HashMap from keys to running sums \n",
    "\n",
    "for key, value in lst:\n",
    "    state[key] = sum((state.get(key,0), value))\n",
    "    \n",
    "print(\"Sum:\", state)"
   ]
  },
  {
   "cell_type": "markdown",
   "metadata": {},
   "source": [
    "Therefore, aggregation requires memory on the order O(|state| * |keys|). This means that even if the aggregate has a very small state (e.g., like a sum), the number of keys might be very large. We will formally address this problem in the next class but let's build some intuition on why we can side-step this problem for the special case when the state is small but the number of keys are large.\n",
    "\n",
    "Consider the following code with aggregates over a single key at a time:"
   ]
  },
  {
   "cell_type": "code",
   "execution_count": 11,
   "metadata": {},
   "outputs": [
    {
     "name": "stdout",
     "output_type": "stream",
     "text": [
      "Sum: {'A': 4}\n",
      "Sum: {'B': 6}\n"
     ]
    }
   ],
   "source": [
    "lst = [('A',1),('B',2),('A',3),('B', 4)]\n",
    "\n",
    "state = {} # a HashMap from keys to running sums \n",
    "\n",
    "for key, value in lst:\n",
    "    if key == 'A':\n",
    "        state[key] = sum((state.get(key,0), value))\n",
    "\n",
    "print(\"Sum:\", state)\n",
    "state = {}\n",
    "        \n",
    "for key, value in lst:\n",
    "    if key == 'B':\n",
    "        state[key] = sum((state.get(key,0), value))\n",
    "        \n",
    "print(\"Sum:\", state)"
   ]
  },
  {
   "cell_type": "markdown",
   "metadata": {},
   "source": [
    "So, if we had an iterator over all of the distinct keys (you'll do this for homework!), then we could trade-off memory for additional passes over our dataset. We'll study this in detail in your homework and in the next class."
   ]
  },
  {
   "cell_type": "markdown",
   "metadata": {},
   "source": [
    "## Aggregation Operator"
   ]
  },
  {
   "cell_type": "markdown",
   "metadata": {},
   "source": [
    "Now, let's put this all together and build an iterator interface for aggregation. This code structure will be informative as it will show us why aggregations are so difficult"
   ]
  },
  {
   "cell_type": "code",
   "execution_count": 36,
   "metadata": {},
   "outputs": [],
   "source": [
    "class Sum:\n",
    "    \n",
    "    def __init__(self, inp, key_attr, value_attr):\n",
    "        self.in1  = inp\n",
    "        self.key = key_attr\n",
    "        self.value = value_attr\n",
    "        \n",
    "    def __iter__(self):        \n",
    "        #the aggregation goes here!!!\n",
    "        \n",
    "        state = {} # a HashMap from keys to running sums \n",
    "        for tup in self.in1:\n",
    "            state[tup[self.key]] = sum((state.get(tup[self.key],0), int(tup[self.value])))\n",
    "        \n",
    "        self.it = iter(self.state.items())\n",
    "        \n",
    "        return self\n",
    "    \n",
    "    def __next__(self):   \n",
    "        elemk, elemv = next(self.it)\n",
    "        return {self.key: elemk,self.value: elemv}\n",
    "        "
   ]
  },
  {
   "cell_type": "markdown",
   "metadata": {},
   "source": [
    "Let's see how this integrates with `db.py` from the previous lecture:"
   ]
  },
  {
   "cell_type": "code",
   "execution_count": 37,
   "metadata": {},
   "outputs": [
    {
     "name": "stdout",
     "output_type": "stream",
     "text": [
      "{'building': 'SHFE', 'number': '203', 'capacity': '32', 'board': 'black'}\n",
      "{'building': 'JCL', 'number': '243', 'capacity': '4', 'board': 'white'}\n",
      "{'building': 'JCL', 'number': '298', 'capacity': '51', 'board': 'black'}\n",
      "{'building': 'RWLD', 'number': '161', 'capacity': '52', 'board': 'black'}\n",
      "{'building': 'RY', 'number': '161a', 'capacity': '4', 'board': 'black'}\n",
      "{'building': 'RY', 'number': '277', 'capacity': '32', 'board': 'white'}\n",
      "{'building': 'RY', 'number': '276', 'capacity': '42', 'board': 'black'}\n"
     ]
    }
   ],
   "source": [
    "from db import *\n",
    "\n",
    "rooms = Load('rooms.csv')\n",
    "for r in rooms:\n",
    "    print(r)"
   ]
  },
  {
   "cell_type": "code",
   "execution_count": 38,
   "metadata": {},
   "outputs": [
    {
     "ename": "TypeError",
     "evalue": "unsupported operand type(s) for +: 'int' and 'str'",
     "output_type": "error",
     "traceback": [
      "\u001b[0;31m---------------------------------------------------------------------------\u001b[0m",
      "\u001b[0;31mTypeError\u001b[0m                                 Traceback (most recent call last)",
      "\u001b[0;32m<ipython-input-38-787645807541>\u001b[0m in \u001b[0;36m<module>\u001b[0;34m\u001b[0m\n\u001b[0;32m----> 1\u001b[0;31m \u001b[0;32mfor\u001b[0m \u001b[0mr\u001b[0m \u001b[0;32min\u001b[0m \u001b[0mSum\u001b[0m\u001b[0;34m(\u001b[0m\u001b[0mrooms\u001b[0m\u001b[0;34m,\u001b[0m \u001b[0;34m'building'\u001b[0m\u001b[0;34m,\u001b[0m \u001b[0;34m'capacity'\u001b[0m\u001b[0;34m)\u001b[0m\u001b[0;34m:\u001b[0m\u001b[0;34m\u001b[0m\u001b[0m\n\u001b[0m\u001b[1;32m      2\u001b[0m     \u001b[0mprint\u001b[0m\u001b[0;34m(\u001b[0m\u001b[0mr\u001b[0m\u001b[0;34m)\u001b[0m\u001b[0;34m\u001b[0m\u001b[0m\n",
      "\u001b[0;32m<ipython-input-36-8bc54d356351>\u001b[0m in \u001b[0;36m__iter__\u001b[0;34m(self)\u001b[0m\n\u001b[1;32m     11\u001b[0m         \u001b[0mstate\u001b[0m \u001b[0;34m=\u001b[0m \u001b[0;34m{\u001b[0m\u001b[0;34m}\u001b[0m \u001b[0;31m# a HashMap from keys to running sums\u001b[0m\u001b[0;34m\u001b[0m\u001b[0m\n\u001b[1;32m     12\u001b[0m         \u001b[0;32mfor\u001b[0m \u001b[0mtup\u001b[0m \u001b[0;32min\u001b[0m \u001b[0mself\u001b[0m\u001b[0;34m.\u001b[0m\u001b[0min1\u001b[0m\u001b[0;34m:\u001b[0m\u001b[0;34m\u001b[0m\u001b[0m\n\u001b[0;32m---> 13\u001b[0;31m             \u001b[0mstate\u001b[0m\u001b[0;34m[\u001b[0m\u001b[0mtup\u001b[0m\u001b[0;34m[\u001b[0m\u001b[0mself\u001b[0m\u001b[0;34m.\u001b[0m\u001b[0mkey\u001b[0m\u001b[0;34m]\u001b[0m\u001b[0;34m]\u001b[0m \u001b[0;34m=\u001b[0m \u001b[0msum\u001b[0m\u001b[0;34m(\u001b[0m\u001b[0;34m(\u001b[0m\u001b[0mstate\u001b[0m\u001b[0;34m.\u001b[0m\u001b[0mget\u001b[0m\u001b[0;34m(\u001b[0m\u001b[0mtup\u001b[0m\u001b[0;34m[\u001b[0m\u001b[0mself\u001b[0m\u001b[0;34m.\u001b[0m\u001b[0mkey\u001b[0m\u001b[0;34m]\u001b[0m\u001b[0;34m,\u001b[0m\u001b[0;36m0\u001b[0m\u001b[0;34m)\u001b[0m\u001b[0;34m,\u001b[0m \u001b[0mtup\u001b[0m\u001b[0;34m[\u001b[0m\u001b[0mself\u001b[0m\u001b[0;34m.\u001b[0m\u001b[0mvalue\u001b[0m\u001b[0;34m]\u001b[0m\u001b[0;34m)\u001b[0m\u001b[0;34m)\u001b[0m\u001b[0;34m\u001b[0m\u001b[0m\n\u001b[0m\u001b[1;32m     14\u001b[0m \u001b[0;34m\u001b[0m\u001b[0m\n\u001b[1;32m     15\u001b[0m         \u001b[0mself\u001b[0m\u001b[0;34m.\u001b[0m\u001b[0mit\u001b[0m \u001b[0;34m=\u001b[0m \u001b[0miter\u001b[0m\u001b[0;34m(\u001b[0m\u001b[0mself\u001b[0m\u001b[0;34m.\u001b[0m\u001b[0mstate\u001b[0m\u001b[0;34m.\u001b[0m\u001b[0mitems\u001b[0m\u001b[0;34m(\u001b[0m\u001b[0;34m)\u001b[0m\u001b[0;34m)\u001b[0m\u001b[0;34m\u001b[0m\u001b[0m\n",
      "\u001b[0;31mTypeError\u001b[0m: unsupported operand type(s) for +: 'int' and 'str'"
     ]
    }
   ],
   "source": [
    "for r in Sum(rooms, 'building', 'capacity'):\n",
    "    print(r)"
   ]
  },
  {
   "cell_type": "code",
   "execution_count": null,
   "metadata": {},
   "outputs": [],
   "source": []
  }
 ],
 "metadata": {
  "kernelspec": {
   "display_name": "Python 3",
   "language": "python",
   "name": "python3"
  },
  "language_info": {
   "codemirror_mode": {
    "name": "ipython",
    "version": 3
   },
   "file_extension": ".py",
   "mimetype": "text/x-python",
   "name": "python",
   "nbconvert_exporter": "python",
   "pygments_lexer": "ipython3",
   "version": "3.7.0"
  }
 },
 "nbformat": 4,
 "nbformat_minor": 2
}
