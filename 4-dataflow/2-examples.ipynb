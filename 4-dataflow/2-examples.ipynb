{
 "cells": [
  {
   "cell_type": "markdown",
   "metadata": {},
   "source": [
    "# Lecture 3. Systems and Examples\n",
    "In the last lecture, we covered the concept of an operator. In this lecture, we discuss systems composed of different parametrized families of these operators.\n",
    "\n",
    "## Recap. Streaming Model of Computation\n",
    "The key insight of the previous lecture(s) is that data-intensive systems (ones that process a large amount of data) are most suited for a \"streaming\" model of computation rather than a static one. The main insight was a processing paradigm where the data that serves as input to a function or a program is an infinite sequence. To recap,\n",
    "\n",
    "* An iterator is an object that can initialize a data stream and return each `next` element when it is queried.\n",
    "* Iterators can be chained, manipulated, filtered, and transformed with operators.\n",
    "* Iterators can hide latency through lazy execution.\n",
    "\n",
    "How do iterators and operators form the basic building blocks for a data intensive system?\n",
    "\n",
    "## Atomic Values and Tuples\n",
    "We've so far talked about data in the abstract. When we build actual systems, we will have to get more precise. While in principle, we can iterate over any data types or structures, building rigid restrictions will help us better understand the behavior of said systems. We will work with systems that follow the following axioms:\n",
    "\n",
    "* Every system defines *atomic* data values. An atomic data type is one that are indivisible, dereferenced, and stateless in the systems eyes. This is similar to the concept of primitive types in programming languages.\n",
    "* Every operator iterates over a fixed size tuple (an immutable array) of atomic values.\n",
    "\n",
    "Let's try to understand why we have these restrictions by illustrating some analogies in python. Here is an example of an allowed iteration: "
   ]
  },
  {
   "cell_type": "code",
   "execution_count": 1,
   "metadata": {},
   "outputs": [
    {
     "name": "stdout",
     "output_type": "stream",
     "text": [
      "1\n",
      "2\n",
      "3\n",
      "4\n"
     ]
    }
   ],
   "source": [
    "lst = [1, 2, 3, 4] #integers are an atomic type\n",
    "for i in lst:\n",
    "    print(i)"
   ]
  },
  {
   "cell_type": "markdown",
   "metadata": {},
   "source": [
    "What if we changed this example in the following way:"
   ]
  },
  {
   "cell_type": "code",
   "execution_count": 5,
   "metadata": {},
   "outputs": [
    {
     "name": "stdout",
     "output_type": "stream",
     "text": [
      "[1, 2]\n",
      "[3, 4]\n"
     ]
    }
   ],
   "source": [
    "x = [1,2]\n",
    "y = [3,4]\n",
    "lst = [x, y] #iterating over lists (or are we?)\n",
    "for i in lst:\n",
    "    print(i)"
   ]
  },
  {
   "cell_type": "markdown",
   "metadata": {},
   "source": [
    "Iterating over object references can sometimes have complicated semantics: "
   ]
  },
  {
   "cell_type": "code",
   "execution_count": 10,
   "metadata": {},
   "outputs": [],
   "source": [
    "class Clip2:\n",
    "    '''\n",
    "    Iterator that clips all values less than or equal to 2 to zero\n",
    "    '''\n",
    "    \n",
    "    def __init__(self, inp):\n",
    "        self.input = inp\n",
    "    \n",
    "    def __iter__(self):\n",
    "        self.it = iter(self.input)\n",
    "        return self\n",
    "    \n",
    "    def __next__(self):\n",
    "        elem = next(self.it)\n",
    "        \n",
    "        for i, v in enumerate(elem):\n",
    "            if v >= 2:\n",
    "                elem[i] = 0\n",
    "        return elem\n",
    "\n",
    "    \n",
    "class Add1:\n",
    "    '''\n",
    "    Iterator that adds one to each element\n",
    "    '''\n",
    "    \n",
    "    def __init__(self, inp):\n",
    "        self.input = inp\n",
    "    \n",
    "    def __iter__(self):\n",
    "        self.it = iter(self.input)\n",
    "        return self\n",
    "    \n",
    "    def __next__(self):\n",
    "        elem = next(self.it)\n",
    "        \n",
    "        for i, v in enumerate(elem):\n",
    "            elem[i] += 1\n",
    "        return elem"
   ]
  },
  {
   "cell_type": "markdown",
   "metadata": {},
   "source": [
    "Why is this bad? This means that two unrelated operators that happen to touch the same data might change each other's results! Thus, we require that every piece of data that the operators in our system process is dereferenced and atomic. This allows for isolation from unrelated processes. \n",
    "\n"
   ]
  },
  {
   "cell_type": "code",
   "execution_count": 13,
   "metadata": {},
   "outputs": [
    {
     "name": "stdout",
     "output_type": "stream",
     "text": [
      "[1, 0]\n",
      "[0, 0]\n",
      "[2, 1]\n",
      "[1, 1]\n"
     ]
    }
   ],
   "source": [
    "x = [1,2]\n",
    "y = [3,4]\n",
    "lst = [x, y] #iterating over lists (or are we?)\n",
    "\n",
    "for i in Clip2(lst):\n",
    "    print(i)\n",
    "\n",
    "for i in Add1(lst):\n",
    "    print(i)"
   ]
  },
  {
   "cell_type": "markdown",
   "metadata": {},
   "source": [
    "This is unexpected because the semantics of running two separate for loops over the same data *should* be different than composing the operators: "
   ]
  },
  {
   "cell_type": "code",
   "execution_count": 15,
   "metadata": {},
   "outputs": [
    {
     "name": "stdout",
     "output_type": "stream",
     "text": [
      "[2, 1]\n",
      "[1, 1]\n"
     ]
    }
   ],
   "source": [
    "x = [1,2]\n",
    "y = [3,4]\n",
    "lst = [x, y] #iterating over lists (or are we?)\n",
    "\n",
    "for i in Add1(Clip2(lst)):\n",
    "    print(i)"
   ]
  },
  {
   "cell_type": "markdown",
   "metadata": {},
   "source": [
    "The moral of the story is that data flow operators should always operate over iterators of atomic data types. Tuples are sometimes called rows or records depending on the context.\n",
    "\n",
    "## Select, Project, and Join\n",
    "A database is a collection of information that is organized so that it can be easily accessed, managed and updated. Data is organized into rows, columns and tables, and it is indexed to make it easier to find relevant information. There are three parametrized operators (select, project, and join) that form the basic building blocks of most database systems. \n",
    " \n",
    "Every tuple in a database system is an array of atomic values (int, float, string, date, etc.). A table consist of a collection of tuples of the same size and types. Typically, each of the slots of the array has a descriptive attribute name (or sometimes called field) that identifies the index. In other words, tables are rectangular blocks of data. A database consists of one or more tables.  Each table is made up of rows and columns.  If you think of a table as a grid, the column go from left to right across the grid and each entry of data is listed down as a row. \n",
    "\n",
    "In `db.py`, we define these operators and let's see how they can be used. We provide the functionality to load the data:"
   ]
  },
  {
   "cell_type": "code",
   "execution_count": 17,
   "metadata": {},
   "outputs": [
    {
     "name": "stdout",
     "output_type": "stream",
     "text": [
      "{'dept': 'cmsc', 'cn': '136', 'c_building': 'SHFE', 'c_number': '203'}\n",
      "{'dept': 'cmsc', 'cn': '220', 'c_building': 'RY', 'c_number': '277'}\n",
      "{'dept': 'econ', 'cn': '152', 'c_building': 'RWLD', 'c_number': '161'}\n",
      "{'building': 'SHFE', 'number': '203', 'capacity': '32', 'board': 'black'}\n",
      "{'building': 'JCL', 'number': '243', 'capacity': '4', 'board': 'white'}\n",
      "{'building': 'JCL', 'number': '298', 'capacity': '51', 'board': 'black'}\n",
      "{'building': 'RWLD', 'number': '161', 'capacity': '52', 'board': 'black'}\n",
      "{'building': 'RY', 'number': '161a', 'capacity': '4', 'board': 'black'}\n",
      "{'building': 'RY', 'number': '277', 'capacity': '32', 'board': 'white'}\n",
      "{'building': 'RY', 'number': '276', 'capacity': '42', 'board': 'black'}\n"
     ]
    }
   ],
   "source": [
    "from db import *\n",
    "courses = Load('courses.csv')\n",
    "rooms = Load('rooms.csv')\n",
    "\n",
    "for course in courses:\n",
    "    print(course)\n",
    "\n",
    "for room in rooms:\n",
    "    print(room)"
   ]
  },
  {
   "cell_type": "markdown",
   "metadata": {},
   "source": [
    "Suppose, we were interested in finding \"all rooms with a whiteboard\":"
   ]
  },
  {
   "cell_type": "code",
   "execution_count": 18,
   "metadata": {},
   "outputs": [
    {
     "name": "stdout",
     "output_type": "stream",
     "text": [
      "{'building': 'JCL', 'number': '243', 'capacity': '4', 'board': 'white'}\n",
      "{'building': 'RY', 'number': '277', 'capacity': '32', 'board': 'white'}\n"
     ]
    }
   ],
   "source": [
    "for room in Select(rooms, lambda x: x['board'] == 'white'):\n",
    "    print(room)"
   ]
  },
  {
   "cell_type": "markdown",
   "metadata": {},
   "source": [
    "Now suppose, we were interested in finding all rooms with a CS course in it:"
   ]
  },
  {
   "cell_type": "code",
   "execution_count": 19,
   "metadata": {},
   "outputs": [
    {
     "ename": "SyntaxError",
     "evalue": "invalid syntax (<ipython-input-19-21d5cb0a8161>, line 1)",
     "output_type": "error",
     "traceback": [
      "\u001b[0;36m  File \u001b[0;32m\"<ipython-input-19-21d5cb0a8161>\"\u001b[0;36m, line \u001b[0;32m1\u001b[0m\n\u001b[0;31m    for out in Join((courses,rooms), lambda x: (x['building'] == x['c_building']) && (x['c_number'] == x['number'])  ):\u001b[0m\n\u001b[0m                                                                                   ^\u001b[0m\n\u001b[0;31mSyntaxError\u001b[0m\u001b[0;31m:\u001b[0m invalid syntax\n"
     ]
    }
   ],
   "source": [
    "for out in Join((courses,rooms), lambda x: (x['building'] == x['c_building']) AND (x['c_number'] == x['number'])  ):\n",
    "    print(out)"
   ]
  },
  {
   "cell_type": "code",
   "execution_count": null,
   "metadata": {},
   "outputs": [],
   "source": []
  }
 ],
 "metadata": {
  "kernelspec": {
   "display_name": "Python 3",
   "language": "python",
   "name": "python3"
  },
  "language_info": {
   "codemirror_mode": {
    "name": "ipython",
    "version": 3
   },
   "file_extension": ".py",
   "mimetype": "text/x-python",
   "name": "python",
   "nbconvert_exporter": "python",
   "pygments_lexer": "ipython3",
   "version": "3.7.0"
  }
 },
 "nbformat": 4,
 "nbformat_minor": 2
}
